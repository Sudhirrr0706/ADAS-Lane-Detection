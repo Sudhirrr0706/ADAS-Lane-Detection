{
 "cells": [
  {
   "cell_type": "code",
   "execution_count": null,
   "metadata": {},
   "outputs": [],
   "source": [
    "def area(type_,x):\n",
    "    if type_ == 'circle':\n",
    "        area = 3.14*x**2\n",
    "        print(\"area of circle is \",area)\n",
    "    elif type_ =='square':\n",
    "        sqr = x**2\n",
    "        print(\"The square of given number is:\",sqr)\n",
    "    else:\n",
    "        print(\"Enter the correct function\")"
   ]
  }
 ],
 "metadata": {
  "kernelspec": {
   "display_name": "Python 3",
   "language": "python",
   "name": "python3"
  },
  "language_info": {
   "codemirror_mode": {
    "name": "ipython",
    "version": 3
   },
   "file_extension": ".py",
   "mimetype": "text/x-python",
   "name": "python",
   "nbconvert_exporter": "python",
   "pygments_lexer": "ipython3",
   "version": "3.7.6"
  }
 },
 "nbformat": 4,
 "nbformat_minor": 4
}
